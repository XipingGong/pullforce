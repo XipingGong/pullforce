{
 "cells": [
  {
   "cell_type": "markdown",
   "id": "f0e79fce-af7e-47e4-8526-ce0160f7e9d9",
   "metadata": {},
   "source": [
    "**Date**: 05/19/2022\n",
    "\n",
    "**Authors**: \n",
    "\n",
    "Xiping Gong (Email: xipinggong@umass.edu)\n",
    "\n",
    "[Jianhan Chen](https://people.chem.umass.edu/jchenlab/) (Email: jianhanc@umass.edu)"
   ]
  },
  {
   "cell_type": "markdown",
   "id": "0f0bdee2-9fc2-4c48-99c7-d55f9e1d1436",
   "metadata": {},
   "source": [
    "# Import packages"
   ]
  },
  {
   "cell_type": "code",
   "execution_count": 3,
   "id": "ba24447e-0258-442e-b6d4-5a6019efc926",
   "metadata": {},
   "outputs": [],
   "source": [
    "# This will import some necessary Python packages (required to run first)\n",
    "# ---------------\n",
    "import numpy as np\n",
    "from matplotlib import pyplot as plt"
   ]
  },
  {
   "cell_type": "markdown",
   "id": "3467bb77-af5c-4f6d-ad2b-51cace58aeed",
   "metadata": {},
   "source": [
    "# Introduction"
   ]
  },
  {
   "cell_type": "markdown",
   "id": "3bda9fa7-f3e4-44d5-9180-e4bddbee2d70",
   "metadata": {},
   "source": [
    "This module implemented the external force that can be applied into the selected particles or atoms.\n",
    "Previous CPU-CHARMM program has implemented these functions [1], but they cannot be applied into the GPU calculations directly, so we have to implement them in the OpenMM/CHARMM interface by using the either custom force or plugin module. Given the OpenMM has a CustomExternalForce module, we used the customforce in this case. However, only part of functions have been implemented, for example,\n",
    "\n",
    "```\n",
    "pull off\n",
    "pull force 0.1 xdir 0.0 ydir 0.0 zdir 0.0 select resid 2 .and. type CA end ! one force applied in CA atom of resid 2.\n",
    "pull list\n",
    "```\n",
    "\n",
    "It is noted that the CPU-CHARMM program support the PERIod, EFIEld, TORQue modules, but these are still not supported in the OpenMM/CHARMM program.\n",
    "\n",
    "**Reference**\n",
    "\n",
    "[1] https://www.charmm.org/archive/charmm/documentation/by-version/c45b1/cons.html#%20External%20Forces"
   ]
  },
  {
   "cell_type": "markdown",
   "id": "825f0d5d-9499-42a3-98ac-f478249dcdd0",
   "metadata": {},
   "source": [
    "# Methodology"
   ]
  },
  {
   "cell_type": "markdown",
   "id": "6b060d1f-7e6f-4a6e-bd97-56150e035755",
   "metadata": {},
   "source": [
    "## The external force and energy\n",
    "\n",
    "$ E_{ext} = -\\sum_{i}{({\\bf f}_{i} * {\\bf r}_{i})}$,\n",
    "\n",
    "where the ${\\bf f}_{i}$ and ${\\bf r}_{i}$ are the force and position of particle $i$."
   ]
  },
  {
   "cell_type": "markdown",
   "id": "0deb8cc9-8caf-4dc9-93d8-d5402335b5c8",
   "metadata": {},
   "source": [
    "# Implementations"
   ]
  },
  {
   "cell_type": "markdown",
   "id": "b1a15d93-a31c-4c68-b57a-1dad4fa6432f",
   "metadata": {},
   "source": [
    "## OpenMM custom forces\n",
    "\n",
    "It is easier to use the OpenMM custom external force, please refer to the link [1].\n",
    "The energy expression could be \"-(x*fx + y*fy + z*fz)\", and then the it could be shown as follows using a Fortran code,\n",
    "\n",
    "```\n",
    "write(formula, '(a)') '-(x*fx+y*fy+z*fz)'\n",
    "```\n",
    "\n",
    "After that, we just follows the procedures mentioned in the OpenMM documentation [1], for example, using this energy formula to create a pull force object, and then define the per-partile parameters (such as fx, fy, and fz). The next step should add all particles that will be applied on these forces, and then add this created force into the system of OpenMM.\n",
    "\n",
    "**Reference**\n",
    "\n",
    "[1] http://docs.openmm.org/7.1.0/api-python/generated/simtk.openmm.openmm.CustomExternalForce.html"
   ]
  },
  {
   "cell_type": "markdown",
   "id": "1520ed90-6249-4ee4-b9b7-74e284e8b75b",
   "metadata": {},
   "source": [
    "## CHARMM/OpenMM implementations\n",
    "\n",
    "Two things should be initiallized from the CHARMM input files, the first one is to type the \"pull force\" commands, for example, \n",
    "\n",
    "```\n",
    "pull off\n",
    "pull force 1.0 xdir 0.0 ydir 0.0 zdir 1.0 select resid 2 .and. type CA end\n",
    "pull list\n",
    "```\n",
    "\n",
    "\"Pull off\" will clean all pull forces,\n",
    "In this step, the input data will be saved in the CPU-CHARMM module. Here, \"force 1.0\" means the force strength, and \"xdir 0.0 ydir 0.0 zdir 1.0\" means the direction of force applied, and \"select resid 2 .and. type CA end\" means what particles will be applied. So, in this case, one CA atom was selected, the external force (fx = force*xdir = 1.0*0.0, fy = force*ydir = 1.0*0.0, and fz = force*zdir = 1.0*1.0) can be applied. \n",
    "\"pull list\" will print out the information, including how many atoms were applied and their fores.\n",
    "\n",
    "For the implementation, we first check this source code, source/charmm/miscom.F90, which will process these commands.\n",
    "Initially, we set qpullforce=.true., qpullforce_import_omm=.false., where qpullforce means\n",
    "the CPU calculations of pull force is on, but this CPU data has not been imported into\n",
    "omm calculations, until the \"omm ...\" turns on. The qpullforce_omm=.falase. means the new\n",
    "pullforce data is not saved into the omm pullforce object.\n",
    "\n",
    "Then, the omm command should be typed, for example,\n",
    "\n",
    "```\n",
    "omm platform CUDA precision mixed deviceid 0\n",
    "omm on\n",
    "\n",
    "```\n",
    "\n",
    "\"omm ...\" will turn on the omm calculations. This command must be after \"pull force ...\".\n",
    "please check source code: source/openmm/omm_ctrl.F90, which will process the omm comands and also the qpullforce_omm will be turned on,\n",
    "\n",
    "Once the qpullforce_omm=.true., the next step is to import CPU data into the GPU, then we\n",
    "need to set qpullforce_import_omm=.true. by calling the setup_pullforce subroutine,\n",
    "please check the source code: source/openmm/omm_bonded.F90, which call import CPU data into OpenMM.\n",
    "\n",
    "Another thing is that we can update the imported CPU data once another \"pull force ...\" command coming out,\n",
    "\n",
    "After that, the energy and dynamic calculations will use the GPU calculations."
   ]
  },
  {
   "cell_type": "markdown",
   "id": "cf78371c-0dc4-45aa-8017-08d071403a85",
   "metadata": {},
   "source": [
    "# Correctness\n",
    "\n",
    "To confirm the correctness of implementations, we took kid protein as a test\n",
    "model, to see whether the GPU calculations can reproduce the CPU calculations. First, the\n",
    "atomistic forces were calculated from the CPU and CUDA calculations. Then, the NVE imulations were also used to confirm the correctness of protein dynamics.\n"
   ]
  },
  {
   "cell_type": "markdown",
   "id": "992c7710-488d-4f03-8c51-9230fb0e77ff",
   "metadata": {},
   "source": [
    "## CPU vs. GPU forces"
   ]
  },
  {
   "cell_type": "markdown",
   "id": "e706e61a-0ec3-409b-b17e-e22838966732",
   "metadata": {},
   "source": [
    "The CHARMM input file is \"**ener.inp**\" showed as below,\n",
    "\n",
    "```\n",
    "if @?pdbid eq 0     set pdbid = kid\n",
    "\n",
    "read  rtf card name top-idpcg-sasa.inp\n",
    "read para card name hb2.0.inp\n",
    "\n",
    "read psf card name @pdbid.psf\n",
    "read coor pdb name @pdbid.pdb\n",
    "\n",
    "! DH electrostatoc potential\n",
    "! --------------------------\n",
    "nbond inbfrq -1\n",
    "NBOND atom switch cdie vdw vswitch -\n",
    "      cutnb 20.0 ctofnb 18.0 ctonnb 16.0\n",
    "\n",
    "! pulling force\n",
    "! --------------------------\n",
    "pull off\n",
    "pull force 1.0 xdir 0.0 ydir 0.0 zdir 1.0 select type CA end\n",
    "!pull list\n",
    "\n",
    "! energy and forces\n",
    "! ---------------------\n",
    "set natom = ?natom\n",
    "! 1) CPU\n",
    "energy \n",
    "! or omm platform CPU precision mixed deviceid 0\n",
    "! omm on\n",
    "! energy\n",
    "coor force comp\n",
    "print coor comp sele bynu 1:@natom end\n",
    "! 2) CUDA\n",
    "omm platform CUDA precision mixed deviceid 0\n",
    "omm on\n",
    "energy\n",
    "coor force comp\n",
    "print coor comp sele bynu 1:@natom end\n",
    "\n",
    "stop\n",
    "```\n",
    "\n",
    "Then, runing the following commands, or type \"**ener.sh**\" shell script,\n",
    "\n",
    "```\n",
    "CHARMM=/home/ping/programs/charmm/build/omm_pullforce/charmm\n",
    "\n",
    "$CHARMM -i ener.inp > ener.out   # charmm is an executable program\n",
    "grep ' KID  ' ener.out | awk '{print $1, $5, $6, $7}' | head -181 > forces.cpu.dat # natom = 181\n",
    "grep ' KID  ' ener.out | awk '{print $1, $5, $6, $7}' | tail -181 > forces.gpu.dat\n",
    "```"
   ]
  },
  {
   "cell_type": "code",
   "execution_count": 6,
   "id": "a5b0ee80-aa12-4a99-b93e-fb6d7c92a2fa",
   "metadata": {},
   "outputs": [
    {
     "name": "stdout",
     "output_type": "stream",
     "text": [
      "/home/ping/pikes_home/work/pullforce/tutorial\n"
     ]
    },
    {
     "data": {
      "text/plain": [
       "<matplotlib.legend.Legend at 0x7febc92f8f40>"
      ]
     },
     "execution_count": 6,
     "metadata": {},
     "output_type": "execute_result"
    },
    {
     "data": {
      "image/png": "[encoded data removed]",
      "text/plain": [
       "<Figure size 432x288 with 1 Axes>"
      ]
     },
     "metadata": {
      "needs_background": "light"
     },
     "output_type": "display_data"
    }
   ],
   "source": [
    "# CPU vs. GPU forces\n",
    "# ------------------\n",
    "%cd '/home/ping/pikes_home/work/pullforce/tutorial'\n",
    "cpuforces = np.loadtxt('forces.cpu.dat')\n",
    "gpuforces = np.loadtxt('forces.gpu.dat') # CUDA-mixed\n",
    "\n",
    "inx = cpuforces[:,0]\n",
    "diff = np.sqrt(np.sum((cpuforces[:,1:4]-gpuforces[:,1:4])**2, axis=1))\n",
    "plt.plot(inx, diff,label='Atomic forces')\n",
    "plt.xlabel('Atomic indices')\n",
    "plt.ylabel('Absolute difference $|F_{CPU} - F_{GPU}|$')\n",
    "plt.title('KID protein (#181 atoms)')\n",
    "plt.legend()"
   ]
  },
  {
   "cell_type": "markdown",
   "id": "2ba5c154-d506-472a-af7f-7553c4980bd1",
   "metadata": {},
   "source": [
    "**Figure 1**. The correctness of pullforce OpenMM implementations by confirming the protein forces.\n",
    "The expected absolute difference should be closer to zero for all atomic indices."
   ]
  },
  {
   "cell_type": "markdown",
   "id": "eba26204-931a-4163-a615-d0a24b62fbd5",
   "metadata": {},
   "source": [
    "## Energy conservation (NVE)"
   ]
  },
  {
   "cell_type": "markdown",
   "id": "2292d3b5-fe0d-4a32-b407-99a4003dc95f",
   "metadata": {},
   "source": [
    "The CHARMM input file is \"**nve.inp**\" showed as below,\n",
    "\n",
    "```\n",
    "```\n",
    "\n",
    "Then, runing the following commands, or type \"nve.sh\" shell script,\n",
    "\n",
    "```\n",
    "```"
   ]
  },
  {
   "cell_type": "code",
   "execution_count": 11,
   "id": "9f792171-cf1b-49cc-949c-1b30dbc7496c",
   "metadata": {},
   "outputs": [
    {
     "name": "stdout",
     "output_type": "stream",
     "text": [
      "/home/ping/pikes_home/work/pullforce/tutorial\n"
     ]
    },
    {
     "data": {
      "text/plain": [
       "<matplotlib.legend.Legend at 0x7febc81be370>"
      ]
     },
     "execution_count": 11,
     "metadata": {},
     "output_type": "execute_result"
    },
    {
     "data": {
      "image/png": "[encoded data removed]",
      "text/plain": [
       "<Figure size 432x288 with 1 Axes>"
      ]
     },
     "metadata": {
      "needs_background": "light"
     },
     "output_type": "display_data"
    }
   ],
   "source": [
    "# NVE simulations\n",
    "# ---------------\n",
    "# timestep 0.002\n",
    "%cd '/home/ping/pikes_home/work/pullforce/tutorial'\n",
    "start = 0\n",
    "fmt = '{0:.2f}'\n",
    "nve1gpu = np.loadtxt('nve.1gpu.dat')\n",
    "k1 = np.polyfit(nve1gpu[start:,0], nve1gpu[start:,1], 1)\n",
    "nve1cpu = np.loadtxt('nve.1cpu.dat')\n",
    "k2 = np.polyfit(nve1cpu[start:,0], nve1cpu[start:,1], 1)\n",
    "nve8cpu = np.loadtxt('nve.8cpu.dat')\n",
    "k3 = np.polyfit(nve8cpu[start:,0], nve8cpu[start:,1], 1)\n",
    "\n",
    "plt.plot(nve1gpu[start:,0], nve1gpu[start:,1]-nve1gpu[start,1],label='1-GPU-mixed, k = '+fmt.format(k1[0]*1000)+' kcal/mol per ns')\n",
    "plt.plot(nve1cpu[start:,0], nve1cpu[start:,1]-nve1cpu[start,1],label='1-CPU, k = '+fmt.format(k2[0]*1000)+' kcal/mol per ns')\n",
    "plt.plot(nve8cpu[start:,0], nve8cpu[start:,1]-nve8cpu[start,1],label='8-CPU, k = '+fmt.format(k3[0]*1000)+' kcal/mol per ns')\n",
    "plt.xlabel('Time (ps)')\n",
    "plt.ylabel('Relative energies (kcal/mol)')\n",
    "plt.title('NVE simulations of KID protein (#181 atoms)')\n",
    "plt.ylim([-0.2,0.08])\n",
    "plt.legend()"
   ]
  },
  {
   "cell_type": "code",
   "execution_count": 11,
   "id": "a16e406d-7e09-4f10-bf58-501bbc815b33",
   "metadata": {},
   "outputs": [
    {
     "name": "stdout",
     "output_type": "stream",
     "text": [
      "/home/ping/pikes_home/work/pullforce/tutorial\n"
     ]
    },
    {
     "data": {
      "text/plain": [
       "<matplotlib.legend.Legend at 0x7febc81be370>"
      ]
     },
     "execution_count": 11,
     "metadata": {},
     "output_type": "execute_result"
    },
    {
     "data": {
      "image/png": "[encoded data removed]",
      "text/plain": [
       "<Figure size 432x288 with 1 Axes>"
      ]
     },
     "metadata": {
      "needs_background": "light"
     },
     "output_type": "display_data"
    }
   ],
   "source": [
    "# NVE simulations\n",
    "# ---------------\n",
    "# timestep 0.002\n",
    "%cd '/home/ping/pikes_home/work/pullforce/tutorial'\n",
    "start = 0\n",
    "fmt = '{0:.2f}'\n",
    "nve1gpu = np.loadtxt('nve.1gpu.dat')\n",
    "k1 = np.polyfit(nve1gpu[start:,0], nve1gpu[start:,1], 1)\n",
    "nve1cpu = np.loadtxt('nve.1cpu.dat')\n",
    "k2 = np.polyfit(nve1cpu[start:,0], nve1cpu[start:,1], 1)\n",
    "nve8cpu = np.loadtxt('nve.8cpu.dat')\n",
    "k3 = np.polyfit(nve8cpu[start:,0], nve8cpu[start:,1], 1)\n",
    "\n",
    "plt.plot(nve1gpu[start:,0], nve1gpu[start:,1]-nve1gpu[start,1],label='1-GPU-mixed, k = '+fmt.format(k1[0]*1000)+' kcal/mol per ns')\n",
    "plt.plot(nve1cpu[start:,0], nve1cpu[start:,1]-nve1cpu[start,1],label='1-CPU, k = '+fmt.format(k2[0]*1000)+' kcal/mol per ns')\n",
    "plt.plot(nve8cpu[start:,0], nve8cpu[start:,1]-nve8cpu[start,1],label='8-CPU, k = '+fmt.format(k3[0]*1000)+' kcal/mol per ns')\n",
    "plt.xlabel('Time (ps)')\n",
    "plt.ylabel('Relative energies (kcal/mol)')\n",
    "plt.title('NVE simulations of KID protein (#181 atoms)')\n",
    "plt.ylim([-0.2,0.08])\n",
    "plt.legend()"
   ]
  },
  {
   "cell_type": "markdown",
   "id": "aa863b4d-2dfe-4a36-8be8-003d797776a3",
   "metadata": {},
   "source": [
    "**Figure 3**. NVE simulations of CPU and GPU calculations. The time step was set to 2 fs for the NVE simulations and the mixed precision was used in the GPU calculations.\n",
    "\n",
    "According to the NVE simulations, the CPU and GPU calculations are almost energy-conserved.\n",
    "We also investigated the effects of computational precisions on the energy\n",
    "conservation by using three options (single, mixed, and double). We observed that the mixed and\n",
    "double schemes performed pretty similarly, and single scheme was a little worsen.\n",
    "After comparing with the computational efficiency, we strongly suggested using the mixed precision for all GPU calculations."
   ]
  },
  {
   "cell_type": "code",
   "execution_count": 134,
   "id": "ae79145b-efe8-4283-977f-af439e63503e",
   "metadata": {},
   "outputs": [
    {
     "name": "stdout",
     "output_type": "stream",
     "text": [
      "/home/ping/pikes_home/work/hyres/tutorial\n"
     ]
    },
    {
     "data": {
      "text/plain": [
       "Text(0.5, 1.0, 'KID')"
      ]
     },
     "execution_count": 134,
     "metadata": {},
     "output_type": "execute_result"
    },
    {
     "data": {
      "image/png": "[encoded data removed]",
      "text/plain": [
       "<Figure size 432x288 with 1 Axes>"
      ]
     },
     "metadata": {
      "needs_background": "light"
     },
     "output_type": "display_data"
    }
   ],
   "source": [
    "# Langevin dynamics (plotting)\n",
    "# ----------------------------\n",
    "%cd '/home/ping/pikes_home/work/hyres/tutorial'\n",
    "\n",
    "# GPU (cons harm)\n",
    "arr = np.loadtxt('kid1.1gpu.helix')\n",
    "plt.errorbar(arr[:,0], arr[:,1], yerr=arr[:,2],\n",
    "    capsize=5, fmt='k-', label='kid1.1gpu', ds='steps-mid')\n",
    "arr = np.loadtxt('kid2.1gpu.helix')\n",
    "plt.errorbar(arr[:,0], arr[:,1], yerr=arr[:,2],\n",
    "    capsize=5, fmt='k--', label='kid2.1gpu', ds='steps-mid')\n",
    "\n",
    "# 1-CPU\n",
    "arr = np.loadtxt('kid1.1cpu.helix')\n",
    "plt.errorbar(arr[:,0], arr[:,1], yerr=arr[:,2],\n",
    "    capsize=5, fmt='b-', label='kid1.1cpu', ds='steps-mid')\n",
    "arr = np.loadtxt('kid2.1cpu.helix')\n",
    "plt.errorbar(arr[:,0], arr[:,1], yerr=arr[:,2],\n",
    "    capsize=5, fmt='b--', label='kid2.1cpu', ds='steps-mid')\n",
    "\n",
    "# 8-CPU\n",
    "arr = np.loadtxt('kid1.8cpu.helix')\n",
    "plt.errorbar(arr[:,0], arr[:,1], yerr=arr[:,2],\n",
    "    capsize=5, fmt='r-', label='kid1.8cpu', ds='steps-mid')\n",
    "arr = np.loadtxt('kid2.8cpu.helix')\n",
    "plt.errorbar(arr[:,0], arr[:,1], yerr=arr[:,2],\n",
    "    capsize=5, fmt='r--', label='kid2.8cpu', ds='steps-mid')\n",
    "\n",
    "plt.legend() #loc='center left', bbox_to_anchor=(1, 0.5))\n",
    "plt.xlabel('Residues')\n",
    "plt.ylabel('Populations')\n",
    "plt.title('KID')"
   ]
  },
  {
   "cell_type": "markdown",
   "id": "9f2e5860-4a1e-4895-b79b-a0b524fc9373",
   "metadata": {},
   "source": [
    "# Benchmarking"
   ]
  },
  {
   "cell_type": "markdown",
   "id": "01deb4ed-9b23-48c7-8adc-39d6c6c186a6",
   "metadata": {},
   "source": [
    "## Performance"
   ]
  },
  {
   "cell_type": "code",
   "execution_count": null,
   "id": "4d06065f-18df-48eb-8ff7-a7cb43a1a33c",
   "metadata": {},
   "outputs": [
    {
     "data": {
      "text/markdown": [
       "\n",
       "**Table 1**. The performance of CPU- and GPU-HyRes models (1 ns NVT langevin dynamics).\n",
       "The CPU name is \"Intel(R) Xeon(R) Silver 4110 CPU @2.10GHz\" and CUDA device name is \"GeForce RTX 2080\".\n",
       "\n",
       "| Devices | KID (#26) | p53-TAD (#61) | Full p53 (#290) |\n",
       "| :--- | --- | --- | --- |\n",
       "| CPU-1 | 1.00 | 1.00 | 1.00 |\n",
       "| CPU-2 | 1.74 | 1.78 | 1.91 |\n",
       "| CPU-4 | 2.69 | 3.11 | 3.51 |\n",
       "| CPU-8 | 3.42 | 4.61 | 6.09 |\n",
       "| CPU-16 | 3.65 | 5.67 | 8.95 |\n",
       "| GPU-1 (HyRes) | 5.82 | 13.26 | 76.33 |\n",
       "| GPU-1 (no-HB) | 8.54 | 22.85 | 171.52 |\n"
      ],
      "text/plain": [
       "<IPython.core.display.Markdown object>"
      ]
     },
     "metadata": {},
     "output_type": "display_data"
    },
    {
     "data": {
      "text/plain": [
       "Text(0.5, 1.0, 'GPU-HyRes')"
      ]
     },
     "execution_count": 105,
     "metadata": {},
     "output_type": "execute_result"
    },
    {
     "data": {
      "image/png": "[encoded data removed]",
      "text/plain": [
       "<Figure size 432x288 with 1 Axes>"
      ]
     },
     "metadata": {
      "needs_background": "light"
     },
     "output_type": "display_data"
    }
   ],
   "source": [
    "table1 = Markdown('''\n",
    "**Table 1**. The performance of CPU- and GPU-HyRes models (1 ns NVT langevin dynamics).\n",
    "The CPU name is \"Intel(R) Xeon(R) Silver 4110 CPU @2.10GHz\" and CUDA device name is \"GeForce RTX 2080\".\n",
    "\n",
    "| Devices | KID (#26) | p53-TAD (#61) | Full p53 (#290) |\n",
    "| :--- | --- | --- | --- |\n",
    "| CPU-1 | 1.00 | 1.00 | 1.00 |\n",
    "| CPU-2 | 1.74 | 1.78 | 1.91 |\n",
    "| CPU-4 | 2.69 | 3.11 | 3.51 |\n",
    "| CPU-8 | 3.42 | 4.61 | 6.09 |\n",
    "| CPU-16 | 3.65 | 5.67 | 8.95 |\n",
    "| GPU-1 (HyRes) | 5.82 | 13.26 | 76.33 |\n",
    "| GPU-1 (no-HB) | 8.54 | 22.85 | 171.52 |\n",
    "''')\n",
    "display(table1)\n",
    "\n",
    "plt.plot([26, 61, 290], [5.82, 13.26, 76.33], 'k-o')\n",
    "plt.xlabel('# Residue')\n",
    "plt.ylabel('Speedup')\n",
    "plt.title('GPU-HyRes')"
   ]
  },
  {
   "cell_type": "markdown",
   "id": "1652c6f3-a8a7-476e-bb37-4bf189554103",
   "metadata": {},
   "source": [
    "**Figure 5**. The speedup of GPU-HyRes model with the increase of systems size (# residue).\n",
    "\n",
    "We also tested the effect of system size on the performance of HyRes model (Table 1). It can be\n",
    "seen that the GPU performance becomes faster in the larger systems, and ~76x speedup can be observed in the full length of p53 protein. \n",
    "This is because that the speedup of GPU-HyRes calculations scales with the system size.\n",
    "\n",
    "It also showed the comparisons with the GPU calculations without HB terms, we see\n",
    "that the calculation of HB term is the dominating part in the GPU-HyRes model, which almost\n",
    "takes up >50 % partitions. The “nvprof” tool was also used to qualify the performance of GPU-\n",
    "HyRes model. we found that two HB GPU kernels took the major contribution to the\n",
    "calculation, including the “computeDonorForces” and “computeAcceptorForces”, which are\n",
    "much greater than the partition of “computeNonbonded” part."
   ]
  },
  {
   "cell_type": "markdown",
   "id": "aad48543-2f22-4efc-9824-8894e0a4fe01",
   "metadata": {},
   "source": [
    "## Profiling with nvprof"
   ]
  },
  {
   "cell_type": "markdown",
   "id": "292aa10d-32e5-413d-abf6-f37b9447e3ff",
   "metadata": {},
   "source": [
    "```\n",
    "# nvprof /home/ping/programs/charmm/build/hyres/charmm openmm=1 -i nve.inp # HyRes\n",
    "# -----------------------\n",
    "==16272== Profiling application: /home/ping/programs/charmm/build/hyres/charmm openmm=1 -i nve.inp\n",
    "==16272== Profiling result:\n",
    "            Type  Time(%)      Time     Calls       Avg       Min       Max  Name\n",
    " GPU activities:   37.31%  7.11465s    100503  70.790us  67.776us  289.96us  computeDonorForces\n",
    "                   28.99%  5.52671s    100503  54.990us  53.153us  64.961us  computeAcceptorForces\n",
    "                   18.26%  3.48077s    100503  34.633us  29.472us  46.753us  computeNonbonded\n",
    "                    6.72%  1.28036s    101115  12.662us  1.6000us  18.752us  computeBondedForces\n",
    "                    2.68%  510.67ms    100503  5.0810us  4.1920us  12.641us  findBlockBounds\n",
    "                    1.17%  223.30ms    100503  2.2210us  2.0480us  12.064us  sortShortList2\n",
    "                    1.08%  206.36ms    100100  2.0610us  1.9840us  11.233us  integrateVerletPart2\n",
    "                    0.95%  180.36ms    100100  1.8010us  1.7280us  11.840us  integrateVerletPart1\n",
    "                    0.69%  131.23ms    100503  1.3050us  1.2480us  11.616us  sortBoxData\n",
    "                    0.57%  107.75ms    101217  1.0640us     832ns  13.056us  clearTwoBuffers\n",
    "                    0.53%  101.87ms    100503  1.0130us     832ns  423.62us  findBlocksWithInteractions\n",
    "                    0.51%  96.648ms    102537     942ns     768ns  12.192us  [CUDA memcpy DtoD]\n",
    "                    0.46%  88.106ms    105141     837ns     288ns  16.864us  [CUDA memcpy DtoH]\n",
    "                    0.05%  8.6726ms      1017  8.5270us  8.3840us  10.016us  reduceEnergy\n",
    "                    0.04%  7.9949ms      2279  3.5080us     608ns  19.360us  [CUDA memcpy HtoD]\n",
    "                    0.01%  1.4412ms      1017  1.4170us  1.2800us  12.192us  timeShiftVelocities\n",
    "      API calls:   58.33%  12.3482s    100503  122.86us  1.4450us  672.01us  cuEventSynchronize\n",
    "                   28.90%  6.11777s   1108087  5.5210us  3.9490us  1.8919ms  cuLaunchKernel\n",
    "                    4.67%  988.52ms    102537  9.6400us  7.5140us  3.1371ms  cuMemcpyDtoDAsync\n",
    "                    2.47%  523.28ms         2  261.64ms  245.90ms  277.39ms  cuCtxCreate\n",
    "                    2.42%  512.58ms    100703  5.0890us  3.9930us  451.80us  cuMemcpyDtoHAsync\n",
    "                    1.51%  320.30ms      4438  72.173us  16.880us  597.66us  cuMemcpyDtoH\n",
    "                    0.80%  168.81ms    100503  1.6790us  1.2890us  718.30us  cuEventRecord\n",
    "                    0.55%  115.44ms      2279  50.654us  4.9520us  57.480ms  cuMemcpyHtoD\n",
    "                    0.25%  52.261ms    202596     257ns     161ns  458.99us  cuCtxSetCurrent\n",
    "                    0.05%  11.338ms        17  666.94us  364.53us  1.6778ms  cuModuleLoad\n",
    "                    0.02%  4.0982ms         4  1.0246ms  990.33us  1.0547ms  cuMemHostAlloc\n",
    "                    0.01%  2.9158ms       124  23.514us  4.3260us  193.07us  cuMemAlloc\n",
    "                    0.00%  871.97us         2  435.99us  407.52us  464.46us  cuMemFreeHost\n",
    "                    0.00%  768.06us         4  192.01us     424ns  766.48us  cuDriverGetVersion\n",
    "                    0.00%  424.52us        54  7.8610us  4.4610us  111.72us  cuMemFree\n",
    "                    0.00%  92.859us         2  46.429us  45.992us  46.867us  cuDeviceGetName\n",
    "                    0.00%  39.437us        75     525ns     242ns  2.9010us  cuModuleGetFunction\n",
    "                    0.00%  10.633us         4  2.6580us  1.2760us  5.8650us  cuEventCreate\n",
    "                    0.00%  7.7380us         1  7.7380us  7.7380us  7.7380us  cuDeviceGetPCIBusId\n",
    "                    0.00%  6.1270us        11     557ns     182ns     833ns  cuDeviceGetAttribute\n",
    "                    0.00%  5.4640us         2  2.7320us  1.0170us  4.4470us  cuCtxSetLimit\n",
    "                    0.00%  5.1000us         1  5.1000us  5.1000us  5.1000us  cuEventDestroy\n",
    "                    0.00%  4.5500us         4  1.1370us     409ns  1.6410us  cuDeviceGetCount\n",
    "                    0.00%  3.1030us         3  1.0340us     532ns  1.6610us  cuDeviceGet\n",
    "                    0.00%  2.1340us         2  1.0670us  1.0650us  1.0690us  cuCtxGetLimit\n",
    "                    0.00%  1.9760us         2     988ns     903ns  1.0730us  cuCtxSetCacheConfig\n",
    "                    0.00%  1.9280us         2     964ns     882ns  1.0460us  cuDeviceComputeCapability\n",
    "```"
   ]
  },
  {
   "cell_type": "markdown",
   "id": "b2956187-c635-40e1-9b53-e2f60d58c5ad",
   "metadata": {},
   "source": [
    "# Examples using the CHARMM program\n",
    "\n",
    "Here, we provided the input files used to generate the above data.\n"
   ]
  },
  {
   "cell_type": "code",
   "execution_count": 126,
   "id": "e2114945-cc0e-498b-b361-2bfeca92a0a9",
   "metadata": {},
   "outputs": [
    {
     "name": "stdout",
     "output_type": "stream",
     "text": [
      "/home/ping/pikes_home/work/hyres/tutorial\n",
      "\n",
      " # The following are the topology and parameter files and the CHARMM input files >> \n",
      "-rw-r----- 1 1012 1004   981 Mar 30 14:42 ener.inp\n",
      "-rw-r--r-- 1 1012 1004 35710 Mar 30 18:21 hb2.0.inp\n",
      "-rw-r--r-- 1 1012 1004  2116 Mar 30 18:30 langevin.inp\n",
      "-rw-r----- 1 1012 1004  1134 Mar 31 09:14 nve.inp\n",
      "-rw-r----- 1 1012 1004 36567 Mar 30 14:04 param_idpcg.inp\n",
      "-rw-r----- 1 1012 1004 19681 Mar 30 14:04 top_idpcg.inp\n",
      "-rw-r--r-- 1 1012 1004 19726 Mar 30 18:21 top-idpcg-sasa.inp\n",
      "\n",
      " # The data files generated\n",
      "-rw-r--r-- 1 1012 1004 53010 Mar 30 16:34 forces.cpu.dat\n",
      "-rw-r--r-- 1 1012 1004 53011 Mar 30 16:34 forces.gpu.dat\n",
      "-rw-r--r-- 1 1012 1004  1763 Mar 31 08:50 nve.1cpu.dat\n",
      "-rw-r--r-- 1 1012 1004  1763 Mar 31 08:50 nve.1gpu.dat\n",
      "-rw-r--r-- 1 1012 1004  1763 Mar 31 08:50 nve.8cpu.dat\n",
      "\n",
      " # The calculated helicity of KID residues\n",
      "-rw-r--r-- 1 1012 1004 1016 Mar 31 10:40 kid1.1cpu.helix\n",
      "-rw-r--r-- 1 1012 1004 1016 Mar 31 10:40 kid1.1gpu.helix\n",
      "-rw-r--r-- 1 1012 1004 1016 Mar 31 10:40 kid1.8cpu.helix\n",
      "-rw-r--r-- 1 1012 1004 1016 Mar 31 10:40 kid2.1cpu.helix\n",
      "-rw-r--r-- 1 1012 1004 1016 Mar 31 10:40 kid2.1gpu.helix\n",
      "-rw-r--r-- 1 1012 1004 1016 Mar 31 10:40 kid2.8cpu.helix\n"
     ]
    }
   ],
   "source": [
    "%cd '/home/ping/pikes_home/work/hyres/tutorial'\n",
    "\n",
    "print('\\n # The following are the topology and parameter files and the CHARMM input files >> ')\n",
    "%ls -all *.inp\n",
    "print('\\n # The data files generated')\n",
    "%ls -all *.dat\n",
    "print('\\n # The calculated helicity of KID residues')\n",
    "%ls -all *.helix"
   ]
  },
  {
   "cell_type": "markdown",
   "id": "87a0f916-ffc2-4da9-be8c-23e5a616091d",
   "metadata": {},
   "source": [
    "## Energies and forces"
   ]
  },
  {
   "cell_type": "markdown",
   "id": "f5be5a73-fa04-443d-98e5-52e851e5ab94",
   "metadata": {},
   "source": [
    "The CHARMM input file is \"**ener.inp**\" showed as below,\n",
    "\n",
    "```\n",
    "if @?pdbid eq 0     set pdbid = fp53\n",
    "\n",
    "read  rtf card name top_idpcg.inp\n",
    "read para card name param_idpcg.inp\n",
    "\n",
    "read psf card name @pdbid.psf\n",
    "read coor pdb name @pdbid.pdb\n",
    "\n",
    "! DH electrostatoc potential\n",
    "! --------------------------\n",
    "nbond inbfrq -1\n",
    "NBOND atom switch cdie vdw vswitch -\n",
    "      cutnb 20.0 ctofnb 18.0 ctonnb 16.0 -\n",
    "      eps 20 ionc 0.15\n",
    "\n",
    "! Harmonic restrict\n",
    "! -----------------\n",
    "cons harm clear\n",
    "cons harm force 1.0 sele resid 2 .and. type CA end\n",
    "\n",
    "! Hydrogen-bonding potential\n",
    "! --------------------------\n",
    "hbond ihbfrq -1\n",
    "HBOND NOACCEPTORS  HBNOEXCLUSIONS  ALL  -\n",
    "   CUTHB 6.0 CTOFHB 5.0 CTONHB 4.0  CUTHA 100.0  CTOFHA 70.0  CTONHA 50.0\n",
    "\n",
    "! energy and forces\n",
    "! ---------------------\n",
    "set natom = ?natom\n",
    "! 1) CPU\n",
    "energy \n",
    "! or omm platform CPU precision mixed deviceid 0\n",
    "! omm on\n",
    "! energy\n",
    "coor force comp\n",
    "print coor comp sele bynu 1:@natom end\n",
    "! 2) CUDA\n",
    "omm platform CUDA precision mixed deviceid 0\n",
    "omm on\n",
    "energy\n",
    "coor force comp\n",
    "print coor comp sele bynu 1:@natom end\n",
    "\n",
    "stop\n",
    "```\n",
    "\n",
    "Execute the following commands in a bash environment,\n",
    "\n",
    "```\n",
    "$CHARMM -i ener.inp > ener.out   # charmm is an executable program\n",
    "grep ' P53  ' ener.out | awk '{print $1, $5, $6, $7}' | head -1775 > forces.cpu.dat # natom = 1775\n",
    "grep ' P53  ' ener.out | awk '{print $1, $5, $6, $7}' | tail -1775 > forces.gpu.dat\n",
    "\n",
    "output>>\n",
    "1) energies by checking out the ener.out file\n",
    "==> cpu <==\n",
    "ENER ENR:  Eval#     ENERgy      Delta-E         GRMS\n",
    "ENER INTERN:          BONDs       ANGLes       UREY-b    DIHEdrals    IMPRopers\n",
    "ENER CROSS:           CMAPs        PMF1D        PMF2D        PRIMO\n",
    "ENER EXTERN:        VDWaals         ELEC       HBONds          ASP         USER\n",
    " ----------       ---------    ---------    ---------    ---------    ---------\n",
    "ENER>        0      2.81856      0.00000      0.39962\n",
    "ENER INTERN>       48.28796    365.66936      0.00000    148.38173    120.04808\n",
    "ENER CROSS>       -15.72816      0.00000      0.00000      0.00000\n",
    "ENER EXTERN>     -542.03040    -20.40126   -101.40874      0.00000      0.00000\n",
    " ----------       ---------    ---------    ---------    ---------    ---------\n",
    "==> gpu <==\n",
    "ENER ENR:  Eval#     ENERgy      Delta-E         GRMS\n",
    "ENER INTERN:          BONDs       ANGLes       UREY-b    DIHEdrals    IMPRopers\n",
    "ENER CROSS:           CMAPs        PMF1D        PMF2D        PRIMO\n",
    "ENER EXTERN:        VDWaals         ELEC       HBONds          ASP         USER\n",
    " ----------       ---------    ---------    ---------    ---------    ---------\n",
    "ENER>        0      2.81864     -0.00008      0.39965\n",
    "ENER INTERN>       48.28790    365.66973      0.00000    148.38178    120.04793\n",
    "ENER CROSS>       -15.72816      0.00000      0.00000      0.00000\n",
    "ENER EXTERN>     -562.43186      0.00000   -101.40870      0.00000      0.00000\n",
    " ----------       ---------    ---------    ---------    ---------    ---------\n",
    "\n",
    "2) forces by running \"head forces.*.dat\"\n",
    "==> forces.cpu.dat <==\n",
    "1 0.02244 -0.04498 0.08463\n",
    "2 0.00739 -0.00605 0.03998\n",
    "3 -0.49249 0.21771 -0.26256\n",
    "4 -0.00583 -0.01102 -0.01446\n",
    "5 0.88928 0.24799 -0.01162\n",
    "6 -0.45220 -0.28220 0.14164\n",
    "7 0.89713 -0.59491 0.25717\n",
    "8 -0.96810 0.21113 -0.18011\n",
    "9 0.10736 0.42737 0.14898\n",
    "10 0.00818 -0.07654 0.22554\n",
    "\n",
    "==> forces.gpu.dat <==\n",
    "1 0.02010 -0.04612 0.08278\n",
    "2 0.00881 -0.00535 0.03896\n",
    "3 -0.49517 0.21991 -0.26026\n",
    "4 -0.00539 -0.01192 -0.01481\n",
    "5 0.89434 0.24586 -0.00883\n",
    "6 -0.45259 -0.28168 0.14091\n",
    "7 0.89068 -0.59616 0.25633\n",
    "8 -0.96629 0.21089 -0.17960\n",
    "9 0.11157 0.42956 0.14659\n",
    "10 0.00753 -0.07655 0.22543\n",
    "\n",
    "```"
   ]
  },
  {
   "cell_type": "markdown",
   "id": "96923a9c-3348-48db-a345-e425c646e381",
   "metadata": {},
   "source": [
    "## NVE simulation"
   ]
  },
  {
   "cell_type": "markdown",
   "id": "d636d3be-b887-4af0-93ff-d6709eb95a75",
   "metadata": {},
   "source": [
    "The CHARMM input file is \"**nve.inp**\" showed as below,\n",
    "```\n",
    "if @?pdbid eq 0     set pdbid = fp53\n",
    "if @?openmm eq 0    set openmm = 0\n",
    "\n",
    "read  rtf card name top_idpcg.inp\n",
    "read para card name param_idpcg.inp\n",
    "\n",
    "read psf card name @pdbid.psf\n",
    "read coor pdb name @pdbid.pdb\n",
    "\n",
    "! DH electrostatoc potential\n",
    "! --------------------------\n",
    "nbond inbfrq -1\n",
    "NBOND atom switch cdie vdw vswitch -\n",
    "      cutnb 20.0 ctofnb 18.0 ctonnb 16.0 -\n",
    "      eps 20 ionc 0.15\n",
    "\n",
    "! Harmonic restrict\n",
    "! -----------------\n",
    "cons harm clear\n",
    "cons harm force 1.0 sele resid 2 .and. type CA end\n",
    "\n",
    "! Hydrogen-bonding potential\n",
    "! --------------------------\n",
    "hbond ihbfrq -1\n",
    "HBOND NOACCEPTORS  HBNOEXCLUSIONS  ALL  -\n",
    "   CUTHB 6.0 CTOFHB 5.0 CTONHB 4.0  CUTHA 100.0  CTOFHA 70.0  CTONHA 50.0\n",
    "\n",
    "! NVE simulation\n",
    "!-------------------------------------------------------\n",
    "set nstep = 100000\n",
    "! 1) CPU\n",
    "if openmm eq 0 then\n",
    "   energy\n",
    "   dynamics leap start timestep 0.002 nstep @nstep -\n",
    "         inbfrq -1    ihbfrq -1 -\n",
    "         ilbfrq 1000 nprint 1000\n",
    "\n",
    "endif\n",
    "\n",
    "! 2) CUDA\n",
    "if openmm eq 1 then\n",
    "   omm platform CUDA precision mixed deviceid 0\n",
    "   omm on\n",
    "   energy\n",
    "   dynamics leap start timestep 0.002 nstep @nstep -\n",
    "         ilbfrq 1000 nprint 1000\n",
    "endif\n",
    "\n",
    "```\n",
    "\n",
    "Typing the following commands in a bash environment,\n",
    "```\n",
    "! running simulations\n",
    "$CHARMM openmm=1 -i nve.inp > nve.1gpu.out\n",
    "$CHARMM openmm=0 -i nve.inp > nve.1cpu.out\n",
    "$mpirun -np 8 $CHARMM openmm=0 -i nve.inp > nve.8cpu.out # mpirun is an executable program\n",
    "\n",
    "! analysis\n",
    "grep 'DYNA>' nve.1gpu.out | awk '{print $3, $4}' > nve.1gpu.dat\n",
    "grep 'DYNA>' nve.1cpu.out | awk '{print $3, $4}' > nve.1cpu.dat\n",
    "grep 'DYNA>' nve.8cpu.out | awk '{print $3, $4}' > nve.8cpu.dat\n",
    "```"
   ]
  },
  {
   "cell_type": "markdown",
   "id": "f645f6d1-d95a-4bde-a758-6739c762d8d3",
   "metadata": {},
   "source": [
    "## Langevin dynamic simulation"
   ]
  },
  {
   "cell_type": "markdown",
   "id": "03e0a4a6-7b56-437d-877c-155f3324fff8",
   "metadata": {},
   "source": [
    "The CHARMM input file is \"**langevin.inp**\" showed as below,\n",
    "```\n",
    "if @?pdbid eq 0     set pdbid = fp53\n",
    "if @?openmm eq 0    set openmm = 0\n",
    "if @?label eq 0     set label = cpu\n",
    "if @?deviceid eq 0  set deviceid = 0\n",
    "\n",
    "read  rtf card name top-idpcg-sasa.inp\n",
    "read para card name hb2.0.inp\n",
    "\n",
    "read psf card name @pdbid.psf\n",
    "read coor pdb name @pdbid.pdb\n",
    "\n",
    "! DH electrostatoc potential\n",
    "! --------------------------\n",
    "nbond inbfrq -1\n",
    "NBOND atom switch cdie vdw vswitch -\n",
    "      cutnb 20.0 ctofnb 18.0 ctonnb 16.0 -\n",
    "      eps 20 ionc 0.15\n",
    "\n",
    "! Harmonic restrict\n",
    "! -----------------\n",
    "cons harm clear\n",
    "cons harm force 1.0 sele resid 2 .and. type CA end\n",
    "\n",
    "! Hydrogen-bonding potential\n",
    "! --------------------------\n",
    "hbond ihbfrq -1\n",
    "HBOND NOACCEPTORS  HBNOEXCLUSIONS  ALL  -\n",
    "   CUTHB 6.0 CTOFHB 5.0 CTONHB 4.0  CUTHA 100.0  CTOFHA 70.0  CTONHA 50.0\n",
    "\n",
    "! OpenMM set up\n",
    "! -------------\n",
    "energy\n",
    "if openmm eq 1 then\n",
    "   omm platform CUDA precision mixed deviceid @deviceid\n",
    "   omm on\n",
    "   energy\n",
    "endif\n",
    "\n",
    "! Langevin dynamics\n",
    "!-------------------------------------------------------\n",
    "shake tolerance 1.0e-06 bonh param\n",
    "set timestep = 0.002\n",
    "energy\n",
    "\n",
    "scalar FBETA set 0.2 select .not. hydrogen end\n",
    "set nstep = 50000000 ! 50000000: 100 ns\n",
    "set nprint = 50000 ! 50000: 1 print / 100 ps\n",
    "set nblocks = 9 ! 9 x 100 ns\n",
    "\n",
    "set run = 1\n",
    "open writ card unit 9  name @pdbid.@label.@run.rest\n",
    "open writ file unit 10 name @pdbid.@label.@run.dcd\n",
    "DYNAMICS LEAP LANGEVIN start timestep @timestep nstep @nstep -\n",
    "     iunread -1 iunwri 9 iuncrd 10 -\n",
    "     nprint @nprint nsavc @nprint nsavv -1 isvfrq @nprint iprfrq @nstep -\n",
    "     inbfrq -1 ihbfrq -1 ILBFRQ -1 -\n",
    "     firstt 300.0 finalt 300.0 tbath 300.0 rbuf 0.0\n",
    "! cont.\n",
    "label dynloop\n",
    "   set prerun = @run\n",
    "   incr run by 1\n",
    "   open read card unit 8  name @pdbid.@label.@prerun.rest\n",
    "   open writ card unit 9  name @pdbid.@label.@run.rest\n",
    "   open writ file unit 10 name @pdbid.@label.@run.dcd\n",
    "   DYNAMICS LEAP LANGEVIN restart timestep @timestep nstep @nstep -\n",
    "      iunread 8 iunwri 9 iuncrd 10 -\n",
    "      nprint @nprint nsavc @nprint nsavv -1 isvfrq @nprint iprfrq @nstep -\n",
    "      inbfrq -1 ihbfrq -1 ILBFRQ -1 -\n",
    "      firstt 300.0 finalt 300.0 tbath 300.0 rbuf 0.0\n",
    "if @run lt @nblocks goto dynloop\n",
    "\n",
    "stop\n",
    "\n",
    "```\n",
    "\n",
    "Typing the following commands to run Langevin dynamic simulations,\n",
    "```\n",
    "CHARMM=/home/ping/programs/charmm/build/hyres/charmm\n",
    "mpi=/home/ping/programs/openmpi/openmpi-3.0.0/build/bin/mpirun\n",
    "\n",
    "pdbid=kid1; label=1cpu; \n",
    "$CHARMM label=$label pdbid=$pdbid openmm=0 -i langevin.inp > $pdbid.$label.out &\n",
    "pdbid=kid2; label=1cpu; \n",
    "$CHARMM label=$label pdbid=$pdbid openmm=0 -i langevin.inp > $pdbid.$label.out &\n",
    "\n",
    "pdbid=kid1; label=8cpu; \n",
    "$mpirun -np 8 $CHARMM label=$label pdbid=$pdbid openmm=0 -i langevin.inp > $pdbid.$label.out &\n",
    "pdbid=kid2; label=8cpu; \n",
    "$mpirun -np 8 $CHARMM label=$label pdbid=$pdbid openmm=0 -i langevin.inp > $pdbid.$label.out &\n",
    "\n",
    "pdbid=kid1; label=1gpu; \n",
    "$CHARMM label=$label pdbid=$pdbid openmm=1 deviceid=0 -i langevin.inp > $pdbid.$label.out &\n",
    "pdbid=kid2; label=1gpu; \n",
    "$CHARMM label=$label pdbid=$pdbid openmm=1 deviceid=1 -i langevin.inp > $pdbid.$label.out &\n",
    "\n",
    "wait\n",
    "```"
   ]
  },
  {
   "cell_type": "markdown",
   "id": "33913a87-37a1-439d-9161-21c88756a5a4",
   "metadata": {},
   "source": [
    "# Questions\n",
    "\n",
    "**Q1: What CHARMM version can we use to run GPU-HyRes calculations?**\n",
    "\n",
    "It requires version > c47. If you are not sure, then using some examples to test whether it supports, or not.\n",
    "Also, the HyRes model seems requires a higher version of OpenMM (>7.5.0), because there was a bug in the CustomHbondForce in previous OpenMM versions.\n",
    "\n",
    "**Q2: How to run the GPU-HyRes calculations @pikes workstation?**\n",
    "\n",
    "Using the following commands before running any GPU-HyRes simulations or putting them into your ~/.bashrc file.\n",
    "```\n",
    "# @pikes, faster node\n",
    "# -------------------\n",
    "# GCC\n",
    "module load gcc/6.1.0\n",
    "export GCCTK=/cm/local/apps/gcc/6.1.0\n",
    "export CC=$GCCTK/bin/gcc\n",
    "export CXX=$GCCTK/bin/g++\n",
    "# OPENMM\n",
    "LOCAL=/home/ping/programs/openmm/build/7.5.0\n",
    "export OPENMM_DIR=$LOCAL\n",
    "export OPENMM_LIB_PATH=$LOCAL/lib\n",
    "export OPENMM_INCLUDE_PATH=$LOCAL/include/\n",
    "export OPENMM_PLUGIN_DIR=$LOCAL/lib/plugins\n",
    "# CUDA\n",
    "module load cuda/10.1.243\n",
    "export CUDATK=/cm/shared/apps/cuda/10.1.243\n",
    "export PATH=$CUDATK/lib64:$PATH\n",
    "export PATH=$CUDATK/lib64/stubs:$PATH\n",
    "export PATH=$CUDATK/bin:$PATH\n",
    "export OPENMM_CUDA_COMPILER=$CUDATK/bin/nvcc\n",
    "\n",
    "CHARMM='/home/ping/programs/charmm/build/hyres/charmm'\n",
    "mpirun='/home/ping/programs/openmpi/openmpi-3.0.0/build/bin/mpirun'\n",
    "```\n",
    "\n",
    "**Q3: How to quickly know I can run GPU-HyRes calculations?**\n",
    "\n",
    "Go to the tutorial folder and run directly the ener.inp CHARMM input file.\n"
   ]
  }
 ],
 "metadata": {
  "kernelspec": {
   "display_name": "Python 3 (ipykernel)",
   "language": "python",
   "name": "python3"
  },
  "language_info": {
   "codemirror_mode": {
    "name": "ipython",
    "version": 3
   },
   "file_extension": ".py",
   "mimetype": "text/x-python",
   "name": "python",
   "nbconvert_exporter": "python",
   "pygments_lexer": "ipython3",
   "version": "3.8.10"
  },
  "toc-autonumbering": true
 },
 "nbformat": 4,
 "nbformat_minor": 5
}
